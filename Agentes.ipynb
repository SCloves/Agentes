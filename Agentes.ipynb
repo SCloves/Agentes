{
 "cells": [
  {
   "cell_type": "markdown",
   "metadata": {},
   "source": [
    "# IA - Agentes #"
   ]
  },
  {
   "cell_type": "markdown",
   "metadata": {},
   "source": [
    "Um agente é qualquer coisa que pode perceber seu ambiente através de sensores e agir sobre esse ambiente de alguma maneira. Um sistema de AI é composto de um agente e seu ambiente. Um ambiente pode conter mais que um agente. "
   ]
  },
  {
   "cell_type": "markdown",
   "metadata": {},
   "source": [
    "<img src='agente.png'>"
   ]
  },
  {
   "cell_type": "markdown",
   "metadata": {
    "collapsed": true
   },
   "source": [
    "### Algumas Terminologias ###\n",
    "\n",
    "* **Medida de Desempenho do Agente** - É o critério que determina o sucesso de um agente.\n",
    "* **Comportamento do Agente** - É a ação que o agente executa após qualquer sequência de percepções.\n",
    "* **Percepção** - É um input recebido pelos sensores do agente, vindos do ambiente, em uma determinada instância.\n",
    "* **Sequência de Percepções** - É o histórico de tudo o que um agente percebeu até o momento.\n",
    "* **Função do Agente** - É uma função responsável por determinar uma ação, baseada na percepção atual do agente."
   ]
  },
  {
   "cell_type": "markdown",
   "metadata": {},
   "source": [
    "### Racionalidade ###\n",
    "\n",
    "A racionalidade nada mais é que o status de ser razoável, sensível e ter bom senso de julgamento.\n",
    "A racionalidade está preocupada com as ações e resultados esperados, dependendo do que o agente tem\n",
    "percebido. A realização de ações com o objetivo de obter informações úteis constitui uma parte da\n",
    "racionalidade."
   ]
  },
  {
   "cell_type": "markdown",
   "metadata": {},
   "source": [
    "### O que seria um agente racional ideal? ###\n",
    "\n",
    "Um agente racional ideal é aquele que é capaz de fazer as ações esperadas para **maximizar sua\n",
    "Medida de Desempenho**, com base em:\n",
    "\n",
    "* suas sequências de percepções.\n",
    "* sua base de conhecimento.\n",
    "\n",
    "A racionalidade de um agente depende dos quatro fatores a seguir:\n",
    "\n",
    "* As *Medidas de Desempenho*, que determinam o grau de sucesso.\n",
    "* *Sequência de Percepção* do agente até o momento.\n",
    "* O *conhecimento prévio* do agente sobre o seu ambiente.\n",
    "* As *ações* que o agente pode realizar.\n",
    "\n",
    "Um agente racional **sempre executa a ação correta**, onde a ação correta significa a ação que torna\n",
    "o agente mais bem sucedido em uma dada *sequência de percepções*."
   ]
  },
  {
   "cell_type": "markdown",
   "metadata": {},
   "source": [
    "### Regras de Condição de Ações ###\n",
    "\n",
    "São regras que mapeiam uma condição de estado para uma ação.\n",
    "\n",
    "<img src='condicoes.png'>"
   ]
  },
  {
   "cell_type": "markdown",
   "metadata": {},
   "source": [
    "### Programa Agente ###\n",
    "\n",
    "Nosso agente terá o seguinte esqueleto: ele pega a percepção corrente como input dos seus \n",
    "sensores e retorna uma ação. \n",
    "\n",
    "Presisamos contruir uma tabela que contenha a ação apropriada para todas as sequências de \n",
    "percepções possíveis. Abaixo temos o pseudo código retirado do AIMA, 3.ed, pg. 47:\n",
    "\n",
    "<img src='programa_agente.jpeg'>"
   ]
  },
  {
   "cell_type": "code",
   "execution_count": 5,
   "metadata": {
    "collapsed": true
   },
   "outputs": [],
   "source": [
    "def TableDrivenAgentProgram(table):\n",
    "    \"\"\"Essa função seleciona as ações baseadas na sequência de percepções.\n",
    "    É prática apenas para domínios pequenos.\n",
    "    Para customiza-la, passe como tabela um dicionário com todas\n",
    "    {percept_sequence: action}.\"\"\"\n",
    "    percepts = []\n",
    "\n",
    "    def program(percept):\n",
    "        percepts.append(percept)\n",
    "        action = table.get(tuple(percepts))\n",
    "        return action\n",
    "    \n",
    "    return program"
   ]
  },
  {
   "cell_type": "markdown",
   "metadata": {
    "collapsed": true
   },
   "source": [
    "### Agente de reflexo simples ###\n",
    "\n",
    "Nossa pobre tartaruguinha cega é um agente de *reflexo simples*, ou seja, ela escolhe ações somente com base na percepção corrente dela, ignorando o resto do histórico de percepções que ela teve em seu ambiente. Aqui está o pseudo código da função que processa as ações de um agente reflexo simples. (obs: imagem retirada de AIMA, 3.ed, pg.49)\n",
    "\n",
    "<img src='reflexo_simples.jpeg'>"
   ]
  },
  {
   "cell_type": "code",
   "execution_count": 6,
   "metadata": {
    "collapsed": true
   },
   "outputs": [],
   "source": [
    "# A função acima em código python\n",
    "def Simple_Reflex_Agent(rules, interpret_input):\n",
    "    \"\"\"Essa função escolhe ações baseado apenas em sua percepção corrente.\"\"\"\n",
    "    def program(percept):\n",
    "        state = interpret_input(percept)\n",
    "        rule = rule_match(state, rules)\n",
    "        action = rule.action\n",
    "        return action\n",
    "    return program\n",
    "\n",
    "def rule_match(state, rules):\n",
    "    \"\"\"Encontra a primeira regra que satisfaz o estate.\"\"\"\n",
    "    for rule in rules:\n",
    "        if rule.matches(state):\n",
    "            return rule"
   ]
  },
  {
   "cell_type": "markdown",
   "metadata": {},
   "source": [
    "Um *agente de reflexo simples*, como nossa tataruguinha, tem a vantagem se ser um exemplo bem simples, mas é uma inteligência limitada. A função acima só irá funcionar se o ambiante dela for completamente observável."
   ]
  },
  {
   "cell_type": "markdown",
   "metadata": {},
   "source": [
    "### Agente com Modelo-Base de Reflexo ###\n",
    "\n",
    "São agentes que usam um modelo do mundo para escolher suas ações. Eles mantêm um estado interno.\n",
    "\n",
    "* **Modelo** - O conhecimento sobre como as coisas acontecem no mundo.\n",
    "* **Estado Interno** - É uma representação de aspectos não observados do estado atual dependendo do histórico de percepção."
   ]
  },
  {
   "cell_type": "markdown",
   "metadata": {},
   "source": [
    "A atualização do estado requer informações sobre:\n",
    "\n",
    "* Como o mundo evolui.\n",
    "* Como as ações do agente afetam o mundo.\n",
    "\n",
    "\n",
    "<img src='modelos.png'>"
   ]
  },
  {
   "cell_type": "markdown",
   "metadata": {},
   "source": [
    "Pseudo código do AIMA, 3.ed, pg. 51\n",
    "\n",
    "<img src='model_base.jpg'>"
   ]
  },
  {
   "cell_type": "code",
   "execution_count": 8,
   "metadata": {
    "collapsed": true
   },
   "outputs": [],
   "source": [
    "# código python para o pseudo código acima\n",
    "\n",
    "def Model_Based_Reflex_Agent(rules, update_state, model):\n",
    "    \"\"\"Essa função escolhe ações baseadas em percepções e estados de ambiente.\"\"\"\n",
    "    def program(percept):\n",
    "        program.state = update_state(program.state, program.action, percept, model)\n",
    "        rule = rule_match(program.state, rules)\n",
    "        action = rule.action\n",
    "        return action\n",
    "    \n",
    "    program.state = program.action = None\n",
    "    \n",
    "    return program"
   ]
  },
  {
   "cell_type": "markdown",
   "metadata": {},
   "source": [
    "### Base de Objetivos de um Agente ###\n",
    "\n",
    "Além de saber como está o estado do ambiente no momento, o agente também precisa \n",
    "saber qual é seu objetivo para poder tomar as melhores decições. Os objetivos são inadequados quando:\n",
    "\n",
    "* Há objetivos conflitantes, dos quais apenas poucos podem ser alcançados.\n",
    "* Existirem incertezas nos objetivos a serem alcançados e você precisar pesar a probabilidade de sucesso contra a importância de um objetivo."
   ]
  },
  {
   "cell_type": "markdown",
   "metadata": {},
   "source": [
    "# A tartaruga Cega #\n",
    "\n",
    "<img src='tartaruga.jpg'>"
   ]
  },
  {
   "cell_type": "markdown",
   "metadata": {},
   "source": [
    "Iremos agora criar um agente, que é uma pobre tartaruguinha cega que vive num mundo de duas dimenções.\n",
    "Elá só consegue perceber os objetos que estão no mesmo lugar que ela, pelo fato de ser cega é claro. Existem dois objetos em seu mundo:\n",
    "\n",
    "* **Água** - sempre que ela percebe esse objeto ela realiza a ação de beber, para se manter hidratada.\n",
    "* **Cogumelos** - nossa tartaruguinha cega adora comer um cogumelo e sempre que encontra um ela executa a ação de come-lô.\n",
    "\n",
    "Além disso, nossa tartaruga tem um caracol-guia que a ajuda na busca destes objetos que são essenciais para sua vida. Seu caracol-guia, ao avistar qualquer um desses obtejos, leva-á até eles, sempre escolhendo aquele que estiver mais próximo.\n",
    "\n",
    "O que você precisa saber sobre o ambiente e sobre a tartaruguinha é:\n",
    "\n",
    "* Um dia neste ambiente dura 1 min.\n",
    "* Consumir no máximo 2 mil calorias e no mínimo 500 calorias por dia.\n",
    "* Beber no máximo 5 litros de água e no mínimo meio litro por dia.\n",
    "* Nossa tartaruguinha anda apenas 1 cm por segundo.\n",
    "\n",
    "Caso ela não atinja a quantidade mínima de calorias ela infelizmente virá a óbto. Se não atingir o número mínimo de água por dia, ela ficará desidratada. Caso atinja o número máximo de calorias ela deve dormir e se atingir o número máximo de litros d'água ela deve fazer xixi."
   ]
  },
  {
   "cell_type": "code",
   "execution_count": 11,
   "metadata": {
    "collapsed": true
   },
   "outputs": [],
   "source": [
    "# Presisamos contruir uma tabela que \n",
    "# contenha a ação apropriada para todas \n",
    "# as sequências de percepções possíveis.\n",
    "\n",
    "tabela = {\n",
    "         'localizou_suprimento': 'ir',\n",
    "         'consumiu_suprimento': 'procurar_suprimento_mais_proximo',\n",
    "         'atingiu_limite_comida': 'dormir',\n",
    "         'atingiu_limite_agua': 'xixi',\n",
    "         'atingiu_limite_comida & agua': ['xixi', 'dormir']\n",
    "         }"
   ]
  },
  {
   "cell_type": "code",
   "execution_count": 22,
   "metadata": {
    "collapsed": true
   },
   "outputs": [],
   "source": [
    "# Vamos criar o ambiente da tartatura\n",
    "\n",
    "import random\n",
    "\n",
    "class Ambiente():\n",
    "    \n",
    "    def __init__(self):\n",
    "        self.existe_suprimentos = True\n",
    "        self.agua = criar_suprimentos_agua()\n",
    "        self.cogumelos = criar_suprimentos_cogumelos()\n",
    "        \n",
    "        \n",
    "#########################################################    \n",
    "        \n",
    "def criar_suprimentos_agua():\n",
    "    # gera aleatoriamente a quantidade de suprimentos, 5 <= n <= 10\n",
    "    n_agua = random.randint(5, 10)\n",
    "        \n",
    "    agua = []\n",
    "    for i in range(n_agua):\n",
    "        # coordenadas da água\n",
    "        x = random.randint(1, 20)\n",
    "        y = random.randint(1, 20)\n",
    "        \n",
    "        # Quantidade em litros do corpo d'água\n",
    "        litros = random.randint(1, 3)\n",
    "        dic_agua = {'posicao': [x, y], 'quantidade': litros}\n",
    "        agua.append(dic_agua)\n",
    "            \n",
    "    return agua\n",
    "    \n",
    "def criar_suprimentos_cogumelos():\n",
    "    # gera aleatoriamente a quantidade de suprimentos, 5 <= n <= 10\n",
    "    n_cogumelos = random.randint(5, 10)\n",
    "        \n",
    "    cogumelos = []\n",
    "    for i in range(n_cogumelos):\n",
    "        # coordenadas do cogumelo\n",
    "        x = random.randint(1, 20)\n",
    "        y = random.randint(1, 20)\n",
    "        \n",
    "        # valor calórico do cogumelo \n",
    "        calorias = random.randint(50, 1500)\n",
    "        \n",
    "        dic_cogumelos = {'posicao': [x, y], 'calorias': calorias}\n",
    "        cogumelos.append(dic_cogumelos)\n",
    "            \n",
    "    return cogumelos"
   ]
  },
  {
   "cell_type": "code",
   "execution_count": null,
   "metadata": {
    "collapsed": true
   },
   "outputs": [],
   "source": []
  }
 ],
 "metadata": {
  "anaconda-cloud": {},
  "kernelspec": {
   "display_name": "Python [conda root]",
   "language": "python",
   "name": "conda-root-py"
  },
  "language_info": {
   "codemirror_mode": {
    "name": "ipython",
    "version": 2
   },
   "file_extension": ".py",
   "mimetype": "text/x-python",
   "name": "python",
   "nbconvert_exporter": "python",
   "pygments_lexer": "ipython2",
   "version": "2.7.12"
  }
 },
 "nbformat": 4,
 "nbformat_minor": 1
}
